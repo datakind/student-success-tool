{
 "cells": [
  {
   "cell_type": "code",
   "execution_count": 0,
   "metadata": {
    "application/vnd.databricks.v1+cell": {
     "cellMetadata": {
      "byteLimit": 2048000,
      "rowLimit": 10000
     },
     "inputWidgets": {},
     "nuid": "c75ee214-e974-4d6f-8d82-c3be82def333",
     "showTitle": false,
     "tableResultSettingsMap": {},
     "title": ""
    }
   },
   "outputs": [],
   "source": [
    "%pip install \"student-success-tool==0.3.5\""
   ]
  },
  {
   "cell_type": "code",
   "execution_count": 0,
   "metadata": {
    "application/vnd.databricks.v1+cell": {
     "cellMetadata": {
      "byteLimit": 2048000,
      "rowLimit": 10000
     },
     "inputWidgets": {},
     "nuid": "c865d5d8-40a1-4bf6-ba21-6966c852cf38",
     "showTitle": false,
     "tableResultSettingsMap": {},
     "title": ""
    }
   },
   "outputs": [],
   "source": [
    "from student_success_tool.dataio.read import from_toml_file\n"
   ]
  },
  {
   "cell_type": "code",
   "execution_count": 0,
   "metadata": {
    "application/vnd.databricks.v1+cell": {
     "cellMetadata": {
      "byteLimit": 2048000,
      "rowLimit": 10000
     },
     "inputWidgets": {},
     "nuid": "58169011-72b2-4403-b7bc-932c28857e0f",
     "showTitle": false,
     "tableResultSettingsMap": {},
     "title": ""
    }
   },
   "outputs": [],
   "source": [
    "\n",
    "import os\n",
    "def feature_table_data():\n",
    "    project_root = os.getcwd()\n",
    "    toml_path = os.path.join(\n",
    "        \"/Workspace/Users/vishakh@datakindo365.onmicrosoft.com/student-success-tool_Vish/\",\n",
    "        \"src\",\n",
    "        \"student_success_tool\",\n",
    "        \"assets\",\n",
    "        \"pdp\",\n",
    "        \"features_table.toml\",\n",
    "    )\n",
    "    return from_toml_file(toml_path)"
   ]
  },
  {
   "cell_type": "code",
   "execution_count": 0,
   "metadata": {
    "application/vnd.databricks.v1+cell": {
     "cellMetadata": {
      "byteLimit": 2048000,
      "rowLimit": 10000
     },
     "inputWidgets": {},
     "nuid": "f6da357b-d435-414a-9beb-c29491c57e18",
     "showTitle": false,
     "tableResultSettingsMap": {},
     "title": ""
    }
   },
   "outputs": [],
   "source": [
    "data = feature_table_data()"
   ]
  },
  {
   "cell_type": "code",
   "execution_count": 0,
   "metadata": {
    "application/vnd.databricks.v1+cell": {
     "cellMetadata": {
      "byteLimit": 2048000,
      "rowLimit": 10000
     },
     "inputWidgets": {},
     "nuid": "a0c6e835-c966-4933-b980-789084ee3863",
     "showTitle": false,
     "tableResultSettingsMap": {},
     "title": ""
    }
   },
   "outputs": [],
   "source": [
    "VALID_FEATURE_NAMES = [\n",
    "    \"took_course_id_eng_101\",\n",
    "    \"took_course_id_eng_101_cummax\",\n",
    "    \"took_course_id_eng_101_cummax_in_12_creds\",\n",
    "    \"took_course_subject_area_51\",\n",
    "    \"took_course_subject_area_51_cummax\",\n",
    "    \"took_course_subject_area_51_cummax_in_12_creds\",\n",
    "    \"num_courses_course_subject_area_51\",\n",
    "    \"num_courses_course_subject_area_51_cumfrac\",\n",
    "    \"frac_courses_course_subject_area_51\",\n",
    "    \"num_courses_course_id_eng_101\",\n",
    "    \"num_courses_course_id_eng_101_cumfrac\",\n",
    "    \"frac_courses_course_id_eng_101\",\n",
    "]"
   ]
  },
  {
   "cell_type": "code",
   "execution_count": 0,
   "metadata": {
    "application/vnd.databricks.v1+cell": {
     "cellMetadata": {
      "byteLimit": 2048000,
      "rowLimit": 10000
     },
     "inputWidgets": {},
     "nuid": "1abb0ea9-985a-4bee-b765-48df1795ae52",
     "showTitle": false,
     "tableResultSettingsMap": {},
     "title": ""
    }
   },
   "outputs": [],
   "source": [
    "import re\n",
    "\n",
    "def is_likely_regex(key: str) -> bool:\n",
    "    # Matches if the key contains metacharacters indicating it's a regex\n",
    "    return bool(re.search(r\"[\\(\\[\\.\\*\\+\\?\\\\]\", key))\n",
    "\n",
    "# Only consider keys with \\d in them — implying dynamic regex patterns\n",
    "regex_keys = [\n",
    "    key for key in data.keys()\n",
    "    if is_likely_regex(key)\n",
    "]\n",
    "print(regex_keys)\n",
    "# Compile the regex patterns\n",
    "compiled_patterns = [re.compile(pattern) for pattern in regex_keys]\n",
    "\n",
    "# Check if the feature_name matches ANY of them\n",
    "matched = any(pat.fullmatch(feature_name) for pat in compiled_patterns for feature_name in VALID_FEATURE_NAMES)\n",
    "\n",
    "assert matched, (\n",
    "    f\"Feature '{feature_name}' did not match any regex pattern with \\\\d in the TOML\"\n",
    ")\n"
   ]
  },
  {
   "cell_type": "code",
   "execution_count": 0,
   "metadata": {
    "application/vnd.databricks.v1+cell": {
     "cellMetadata": {
      "byteLimit": 2048000,
      "rowLimit": 10000
     },
     "inputWidgets": {},
     "nuid": "7640d9f4-fd65-45ed-be6c-410e7de2ca0c",
     "showTitle": false,
     "tableResultSettingsMap": {},
     "title": ""
    }
   },
   "outputs": [],
   "source": [
    "print(regex_keys)"
   ]
  },
  {
   "cell_type": "code",
   "execution_count": 0,
   "metadata": {
    "application/vnd.databricks.v1+cell": {
     "cellMetadata": {},
     "inputWidgets": {},
     "nuid": "b91516ea-031c-4150-a91b-2a1af18ab4a1",
     "showTitle": false,
     "tableResultSettingsMap": {},
     "title": ""
    }
   },
   "outputs": [],
   "source": []
  }
 ],
 "metadata": {
  "application/vnd.databricks.v1+notebook": {
   "computePreferences": null,
   "dashboards": [],
   "environmentMetadata": {
    "base_environment": "",
    "environment_version": "2"
   },
   "inputWidgetPreferences": null,
   "language": "python",
   "notebookMetadata": {
    "pythonIndentUnit": 4
   },
   "notebookName": "Untitled Notebook 2025-06-30 17_05_53",
   "widgets": {}
  },
  "language_info": {
   "name": "python"
  }
 },
 "nbformat": 4,
 "nbformat_minor": 0
}
