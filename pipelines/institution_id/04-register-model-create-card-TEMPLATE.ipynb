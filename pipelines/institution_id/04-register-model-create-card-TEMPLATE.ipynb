{
 "cells": [
  {
   "cell_type": "markdown",
   "metadata": {
    "application/vnd.databricks.v1+cell": {
     "cellMetadata": {},
     "inputWidgets": {},
     "nuid": "4410589c-d866-4f18-b11e-6b760a881c77",
     "showTitle": false,
     "tableResultSettingsMap": {},
     "title": ""
    }
   },
   "source": [
    "# SST Register Model and Create Model Card: [SCHOOL]\n",
    "\n",
    "Fifth step in the process of transforming raw (PDP) data into actionable, data-driven insights for advisors: finalize model with unity catalog model registration and generate model card for transparency and reporting\n",
    "\n",
    "### References\n",
    "\n",
    "- [Data science product components (Confluence doc)](https://datakind.atlassian.net/wiki/spaces/TT/pages/237862913/Data+science+product+components+the+modeling+process)\n",
    "- [Databricks runtimes release notes](https://docs.databricks.com/en/release-notes/runtime/index.html)\n",
    "- [SCHOOL WEBSITE](https://example.com)"
   ]
  },
  {
   "cell_type": "code",
   "execution_count": 0,
   "metadata": {
    "application/vnd.databricks.v1+cell": {
     "cellMetadata": {},
     "inputWidgets": {},
     "nuid": "362be670-6847-4dd0-8362-747536880fc7",
     "showTitle": false,
     "tableResultSettingsMap": {},
     "title": ""
    }
   },
   "outputs": [],
   "source": [
    "%sh python --version"
   ]
  },
  {
   "cell_type": "code",
   "execution_count": 0,
   "metadata": {
    "application/vnd.databricks.v1+cell": {
     "cellMetadata": {},
     "inputWidgets": {},
     "nuid": "c820cf55-150c-4e28-929a-d8e18c233737",
     "showTitle": false,
     "tableResultSettingsMap": {},
     "title": ""
    }
   },
   "outputs": [],
   "source": [
    "# WARNING: AutoML/mlflow expect particular packages within certain version constraints\n",
    "# overriding existing installs can result in errors and inability to load trained models\n",
    "# %pip install \"student-success-tool==0.1.1\" --no-deps\n",
    "# %pip install \"git+https://github.com/datakind/student-success-tool.git@develop\" --no-deps"
   ]
  },
  {
   "cell_type": "code",
   "execution_count": 0,
   "metadata": {
    "application/vnd.databricks.v1+cell": {
     "cellMetadata": {},
     "inputWidgets": {},
     "nuid": "06753225-172b-477c-bf30-3d097b62fd54",
     "showTitle": false,
     "tableResultSettingsMap": {},
     "title": ""
    }
   },
   "outputs": [],
   "source": [
    "%restart_python"
   ]
  },
  {
   "cell_type": "code",
   "execution_count": 0,
   "metadata": {
    "application/vnd.databricks.v1+cell": {
     "cellMetadata": {},
     "inputWidgets": {},
     "nuid": "0f874ccf-5314-4b40-b4bb-04f848a269ec",
     "showTitle": false,
     "tableResultSettingsMap": {},
     "title": ""
    }
   },
   "outputs": [],
   "source": [
    "import os\n",
    "import mlflow\n",
    "import logging\n",
    "from databricks.connect import DatabricksSession\n",
    "\n",
    "from student_success_tool import dataio, configs, modeling\n",
    "from student_success_tool.reporting.model_card.pdp import PDPModelCard"
   ]
  },
  {
   "cell_type": "code",
   "execution_count": 0,
   "metadata": {
    "application/vnd.databricks.v1+cell": {
     "cellMetadata": {},
     "inputWidgets": {},
     "nuid": "08e69e1b-ef71-4ee6-a178-545709596c70",
     "showTitle": false,
     "tableResultSettingsMap": {},
     "title": ""
    }
   },
   "outputs": [],
   "source": [
    "logging.basicConfig(level=logging.INFO, force=True)\n",
    "logging.getLogger(\"py4j\").setLevel(logging.WARNING)  # ignore databricks logger\n",
    "\n",
    "try:\n",
    "    spark = DatabricksSession.builder.getOrCreate()\n",
    "except Exception:\n",
    "    logging.warning(\"unable to create spark session; are you in a Databricks runtime?\")\n",
    "    pass\n",
    "\n",
    "# HACK: hardcode uc base path and mflow client\n",
    "catalog = \"sst_dev\"\n",
    "client = mlflow.tracking.MlflowClient()\n",
    "\n",
    "# HACK: We need to disable the mlflow widget template loading for MC output\n",
    "# Retrieved from DB office hours, otherwise 10+ DB widgets try to load and\n",
    "# fail when pulling from ML artifacts (it's annoying)\n",
    "os.environ[\"MLFLOW_ENABLE_ARTIFACTS_PROGRESS_BAR\"] = \"false\""
   ]
  },
  {
   "cell_type": "markdown",
   "metadata": {
    "application/vnd.databricks.v1+cell": {
     "cellMetadata": {},
     "inputWidgets": {},
     "nuid": "2cc87394-361e-4f8c-9a9c-343ddcb953d4",
     "showTitle": false,
     "tableResultSettingsMap": {},
     "title": ""
    }
   },
   "source": [
    "## import school-specific code"
   ]
  },
  {
   "cell_type": "code",
   "execution_count": 0,
   "metadata": {
    "application/vnd.databricks.v1+cell": {
     "cellMetadata": {},
     "inputWidgets": {},
     "nuid": "c4c5aa7b-8912-4662-b89a-c98a83a1b31f",
     "showTitle": false,
     "tableResultSettingsMap": {},
     "title": ""
    }
   },
   "outputs": [],
   "source": [
    "# project configuration should be stored in a config file in TOML format\n",
    "# it'll start out with just basic info: institution_id, institution_name\n",
    "# but as each step of the pipeline gets built, more parameters will be moved\n",
    "# from hard-coded notebook variables to shareable, persistent config fields\n",
    "cfg = dataio.read_config(\"./config-TEMPLATE.toml\", schema=configs.pdp.PDPProjectConfig)\n",
    "cfg"
   ]
  },
  {
   "cell_type": "markdown",
   "metadata": {
    "application/vnd.databricks.v1+cell": {
     "cellMetadata": {},
     "inputWidgets": {},
     "nuid": "5262c1d4-2df4-4481-8bd9-0e2cac2032b4",
     "showTitle": false,
     "tableResultSettingsMap": {},
     "title": ""
    }
   },
   "source": [
    "# register model"
   ]
  },
  {
   "cell_type": "code",
   "execution_count": 0,
   "metadata": {
    "application/vnd.databricks.v1+cell": {
     "cellMetadata": {},
     "inputWidgets": {},
     "nuid": "772d2270-ac09-45b2-8573-253915972818",
     "showTitle": false,
     "tableResultSettingsMap": {},
     "title": ""
    }
   },
   "outputs": [],
   "source": [
    "model_name = modeling.registration.get_model_name(\n",
    "    institution_id=cfg.institution_id,\n",
    "    target=cfg.preprocessing.target.name,\n",
    "    checkpoint=cfg.preprocessing.checkpoint.name,\n",
    ")\n",
    "model_name"
   ]
  },
  {
   "cell_type": "code",
   "execution_count": 0,
   "metadata": {
    "application/vnd.databricks.v1+cell": {
     "cellMetadata": {},
     "inputWidgets": {},
     "nuid": "19659242-2dd5-4c8b-bcec-83c51c1974d7",
     "showTitle": false,
     "tableResultSettingsMap": {},
     "title": ""
    }
   },
   "outputs": [],
   "source": [
    "mlflow.set_registry_uri(\"databricks-uc\")\n",
    "modeling.registration.register_mlflow_model(\n",
    "    model_name,\n",
    "    cfg.institution_id,\n",
    "    run_id=cfg.model.run_id,\n",
    "    catalog=catalog,\n",
    "    registry_uri=\"databricks-uc\",\n",
    "    mlflow_client=client,\n",
    ")"
   ]
  },
  {
   "cell_type": "markdown",
   "metadata": {
    "application/vnd.databricks.v1+cell": {
     "cellMetadata": {},
     "inputWidgets": {},
     "nuid": "9afebf92-46ae-4e7d-a9b4-4e115386f79f",
     "showTitle": false,
     "tableResultSettingsMap": {},
     "title": ""
    }
   },
   "source": [
    "# generate model card"
   ]
  },
  {
   "cell_type": "code",
   "execution_count": 0,
   "metadata": {
    "application/vnd.databricks.v1+cell": {
     "cellMetadata": {},
     "inputWidgets": {},
     "nuid": "5c0544ad-3bba-4293-9de3-ec29c7195b39",
     "showTitle": false,
     "tableResultSettingsMap": {},
     "title": ""
    }
   },
   "outputs": [],
   "source": [
    "# Initialize card\n",
    "card = PDPModelCard(config=cfg, catalog=catalog, model_name=model_name)"
   ]
  },
  {
   "cell_type": "code",
   "execution_count": 0,
   "metadata": {
    "application/vnd.databricks.v1+cell": {
     "cellMetadata": {},
     "inputWidgets": {},
     "nuid": "8cfbcb65-6b41-4267-9260-07adc0873723",
     "showTitle": false,
     "tableResultSettingsMap": {},
     "title": ""
    }
   },
   "outputs": [],
   "source": [
    "# Build context and download artifacts\n",
    "card.build()"
   ]
  }
 ],
 "metadata": {
  "application/vnd.databricks.v1+notebook": {
   "computePreferences": null,
   "dashboards": [],
   "environmentMetadata": {
    "base_environment": "",
    "environment_version": "2"
   },
   "inputWidgetPreferences": null,
   "language": "python",
   "notebookMetadata": {
    "pythonIndentUnit": 4
   },
   "notebookName": "04-register-model-create-card-TEMPLATE",
   "widgets": {}
  },
  "language_info": {
   "name": "python"
  }
 },
 "nbformat": 4,
 "nbformat_minor": 0
}
