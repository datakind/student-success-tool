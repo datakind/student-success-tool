{
 "cells": [
  {
   "cell_type": "code",
   "execution_count": 0,
   "metadata": {
    "application/vnd.databricks.v1+cell": {
     "cellMetadata": {},
     "inputWidgets": {},
     "nuid": "4cba77bd-545b-4c33-8cd1-ccc30a1401e9",
     "showTitle": false,
     "tableResultSettingsMap": {},
     "title": ""
    }
   },
   "outputs": [],
   "source": [
    "\"\"\" This script is to setup a mock MODEL + TOML file. \n",
    "It is used to avoid training a model for each institution for testing purposes\n",
    "It copies an existing model from an existin institution called \"institution_x\" to the new institution's schema.\n",
    "\n",
    "The notebook is designed to run within a Databricks environment as a job task, leveraging Databricks \n",
    "utilities for widget input, job task values, and Spark session management.\n",
    "\n",
    "This is a POC notebook, it is advised to refactor to .py and add tests before using in production.\n",
    "\n",
    "\"\"\"\n",
    "\n",
    "import logging\n",
    "import toml\n",
    "import os\n",
    "import mlflow\n",
    "from databricks.connect import DatabricksSession\n",
    "from databricks.sdk.runtime import dbutils\n",
    "import pandas as pd\n",
    "\n",
    "\n",
    "import student_success_tool.dataio as dataio\n",
    "import student_success_tool.targets.pdp as targets\n",
    "import student_success_tool.schemas.pdp as schemas\n",
    "import student_success_tool.preprocessing.pdp as preprocessing\n",
    "\n",
    "# Disable mlflow autologging (due to Databricks issues during feature selection)\n",
    "mlflow.autolog(disable=True)\n",
    "\n",
    "# Configure logging\n",
    "logging.basicConfig(level=logging.INFO)\n",
    "logging.getLogger(\"py4j\").setLevel(logging.WARNING)  # Ignore Databricks logger\n",
    "\n",
    "# Attempt to create a Spark session\n",
    "try:\n",
    "    spark_session = DatabricksSession.builder.getOrCreate()\n",
    "except Exception:\n",
    "    logging.warning(\"Unable to create Spark session; are you in a Databricks runtime?\")\n",
    "    spark_session = None\n",
    "\n",
    "# Databricks workspace identifier\n",
    "DB_workspace = dbutils.widgets.get(\"DB_workspace\")\n",
    "\n",
    "model_name = dbutils.widgets.get(\"model_name\")\n",
    "model_version = dbutils.widgets.get(\"version_id\")\n",
    "catalog = DB_workspace\n",
    "\n",
    "# Input parameters from Databricks widgets\n",
    "institution_name = dbutils.widgets.get(\"databricks_institution_name\")\n",
    "db_run_id = dbutils.widgets.get(\"db_run_id\")\n",
    "\n",
    "\n",
    "existing_model_uri = f\"models:/{catalog}.institution_x_bronze.{model_name}/1\"\n",
    "new_institution_model_uri = f\"{catalog}.{institution_name}_gold.{model_name}\"\n",
    "mlflow.register_model(existing_model_uri, new_institution_model_uri)\n",
    "\n",
    "# Creating an institution configuration file copying from a template. This is a placeholder.\n",
    "# In a real scenario, toml file is specifically built for the institution.\n",
    "toml_template_path = \"/Workspace/Users/pedro.melendez@datakind.org/repo-student-success-tool-develop/tests/institution_onboarding/template_enrollment_model_toml_file.toml\"\n",
    "with open(toml_template_path, \"r\") as f:\n",
    "    toml_template = toml.load(f)\n",
    "\n",
    "toml_template[\"institution_id\"], toml_template[\"institution_name\"] = (\n",
    "    institution_name,\n",
    "    institution_name,\n",
    ")\n",
    "\n",
    "# All other model-specific parameters stored in the toml file should be updated here\n",
    "\n",
    "\n",
    "# Create directory on the volume\n",
    "config_file_path = f\"/Volumes/{catalog}/{institution_name}_gold/gold_volume/configuration_files/\"\n",
    "os.makedirs(config_file_path, exist_ok=True)\n",
    "\n",
    "with open(f\"{config_file_path}/{institution_name}_{model_name}_configuration_file.toml\", \"w\") as f:\n",
    "    toml.dump(toml_template, f)\n",
    "\n",
    "\n"
   ]
  }
 ],
 "metadata": {
  "application/vnd.databricks.v1+notebook": {
   "computePreferences": null,
   "dashboards": [],
   "environmentMetadata": {
    "base_environment": "",
    "environment_version": "2"
   },
   "language": "python",
   "notebookMetadata": {
    "pythonIndentUnit": 4
   },
   "notebookName": "pdp_mock_model_training_task",
   "widgets": {}
  },
  "language_info": {
   "name": "python"
  }
 },
 "nbformat": 4,
 "nbformat_minor": 0
}
