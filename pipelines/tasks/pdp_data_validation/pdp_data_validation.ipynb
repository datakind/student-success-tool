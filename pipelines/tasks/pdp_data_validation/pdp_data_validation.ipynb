{
 "cells": [
  {
   "cell_type": "code",
   "execution_count": 0,
   "metadata": {
    "application/vnd.databricks.v1+cell": {
     "cellMetadata": {
      "byteLimit": 2048000,
      "rowLimit": 10000
     },
     "inputWidgets": {},
     "nuid": "9402ef98-e014-48f9-a74a-ed6268a9673b",
     "showTitle": false,
     "tableResultSettingsMap": {},
     "title": ""
    }
   },
   "outputs": [],
   "source": [
    "# This is the notebook for data validation\n",
    "#\n",
    "# TODO This is a placeholder notebook Still to be implemented\n",
    "from databricks.sdk.runtime import dbutils\n",
    "\n",
    "processed_dataset_table_path = dbutils.jobs.taskValues.get(\n",
    "    taskKey=\"data_preprocessing\", key=\"processed_dataset_path\"\n",
    ")\n",
    "print(processed_dataset_table_path)\n",
    "\n",
    "print(\"Data validation notebook\")"
   ]
  }
 ],
 "metadata": {
  "application/vnd.databricks.v1+notebook": {
   "computePreferences": null,
   "dashboards": [],
   "environmentMetadata": {
    "base_environment": "",
    "environment_version": "2"
   },
   "language": "python",
   "notebookMetadata": {
    "pythonIndentUnit": 4
   },
   "notebookName": "pdp_data_validation",
   "widgets": {}
  },
  "language_info": {
   "name": "python"
  }
 },
 "nbformat": 4,
 "nbformat_minor": 0
}
