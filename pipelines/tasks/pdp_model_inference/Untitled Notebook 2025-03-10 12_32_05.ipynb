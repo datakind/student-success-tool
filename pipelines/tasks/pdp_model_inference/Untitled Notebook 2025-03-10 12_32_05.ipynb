{
 "cells": [
  {
   "cell_type": "code",
   "execution_count": 0,
   "metadata": {
    "application/vnd.databricks.v1+cell": {
     "cellMetadata": {
      "byteLimit": 2048000,
      "rowLimit": 10000
     },
     "inputWidgets": {},
     "nuid": "a412e237-b07f-4b33-9e3f-a2bd4a727f0c",
     "showTitle": false,
     "tableResultSettingsMap": {},
     "title": ""
    }
   },
   "outputs": [],
   "source": [
    "DB_workspace=\"dev_sst_02\"\n",
    "databricks_institution_name=\"uni_of_crystal_testing\"\n",
    "db_run_id=\"206958269704514\"\n",
    "model_name=\"latest_enrollment_model\"\n",
    "model_type=\"sklearn\"\n",
    "job_root_dir=f\"/Volumes/${DB_workspace}/${databricks_institution_name}_gold/gold_volume/inference_jobs/${db_run_id}\"\n",
    "processed_dataset_path=f\"${DB_workspace}.${databricks_institution_name}_silver.${db_run_id}_processed_dataset\"\n",
    "toml_file_path=f\"/Volumes/${DB_workspace}/${databricks_institution_name}_gold/gold_volume/configuration_files/${databricks_institution_name}_latest_enrollment_model_configuration_file.toml\"\n",
    "\n"
   ]
  },
  {
   "cell_type": "code",
   "execution_count": 0,
   "metadata": {
    "application/vnd.databricks.v1+cell": {
     "cellMetadata": {
      "byteLimit": 2048000,
      "rowLimit": 10000
     },
     "inputWidgets": {},
     "nuid": "7d98bb7f-6c36-4161-98ca-4e2510f6f1a5",
     "showTitle": false,
     "tableResultSettingsMap": {},
     "title": ""
    }
   },
   "outputs": [],
   "source": [
    "!python pdp_model_inference.py --DB_workspace $DB_workspace --databricks_institution_name $databricks_institution_name --db_run_id $db_run_id --model_name $model_name --model_type $model_type --job_root_dir $job_root_dir --processed_dataset_path $processed_dataset_path --toml_file_path $toml_file_path"
   ]
  },
  {
   "cell_type": "code",
   "execution_count": 0,
   "metadata": {
    "application/vnd.databricks.v1+cell": {
     "cellMetadata": {},
     "inputWidgets": {},
     "nuid": "12635b80-2337-4667-be88-995416751cad",
     "showTitle": false,
     "tableResultSettingsMap": {},
     "title": ""
    }
   },
   "outputs": [],
   "source": [
    "\n"
   ]
  }
 ],
 "metadata": {
  "application/vnd.databricks.v1+notebook": {
   "computePreferences": null,
   "dashboards": [],
   "environmentMetadata": {
    "base_environment": "",
    "environment_version": "2"
   },
   "language": "python",
   "notebookMetadata": {
    "pythonIndentUnit": 4
   },
   "notebookName": "Untitled Notebook 2025-03-10 12_32_05",
   "widgets": {}
  },
  "language_info": {
   "name": "python"
  }
 },
 "nbformat": 4,
 "nbformat_minor": 0
}
